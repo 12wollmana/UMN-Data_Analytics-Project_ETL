{
 "cells": [
  {
   "cell_type": "markdown",
   "metadata": {},
   "source": [
    "<h1>NBA 2K20 Database</h1>\n",
    "<em>Aaron Wollman, Kelsey Richardson Blackwell, Will Huang</em>\n",
    "<hr>"
   ]
  },
  {
   "cell_type": "markdown",
   "metadata": {},
   "source": [
    "This project is to create a production database that contains both real-life and game data for players in NBA2K20. \n",
    "\n",
    "In this notebook, the extract, transform, and load process will take place for two CSV files as their data is placed into a database."
   ]
  },
  {
   "cell_type": "markdown",
   "metadata": {},
   "source": [
    "## Prerequisites"
   ]
  },
  {
   "cell_type": "markdown",
   "metadata": {},
   "source": [
    "Before running this notebook, make sure to run the Prerequisites section in the <a href=\"README.md\" target=\"_blank\">README</a> for this project. \n",
    "\n",
    "Following those instructions will create a config.<span></span>py file and will create the production database used in this notebook. "
   ]
  },
  {
   "cell_type": "markdown",
   "metadata": {},
   "source": []
  },
  {
   "cell_type": "markdown",
   "metadata": {},
   "source": []
  },
  {
   "cell_type": "markdown",
   "metadata": {},
   "source": []
  },
  {
   "cell_type": "markdown",
   "metadata": {},
   "source": []
  },
  {
   "cell_type": "markdown",
   "metadata": {},
   "source": []
  },
  {
   "cell_type": "markdown",
   "metadata": {},
   "source": [
    "## Setup"
   ]
  },
  {
   "cell_type": "markdown",
   "metadata": {},
   "source": [
    "In order for the code in this notebook to run, the dependencies in the next cell are required.\n",
    "\n",
    "<em>Note that a config.py file is <b>required</b> for the next cell to run. \n",
    "    Follow the directions in Prerequisites section to create this file.</em>"
   ]
  },
  {
   "cell_type": "code",
   "execution_count": 1,
   "metadata": {},
   "outputs": [],
   "source": [
    "import pandas as pd\n",
    "# TODO Other dependencies\n",
    "# from config import username, password"
   ]
  },
  {
   "cell_type": "code",
   "execution_count": 2,
   "metadata": {},
   "outputs": [],
   "source": [
    "csv_files = {\n",
    "    \"nba2k\" : \"data/nba2k20.csv\",\n",
    "    \"player_stats\" : \"data/players_stats.csv\"\n",
    "}"
   ]
  },
  {
   "cell_type": "code",
   "execution_count": 3,
   "metadata": {},
   "outputs": [],
   "source": [
    "import re "
   ]
  },
  {
   "cell_type": "code",
   "execution_count": null,
   "metadata": {},
   "outputs": [],
   "source": []
  },
  {
   "cell_type": "code",
   "execution_count": null,
   "metadata": {},
   "outputs": [],
   "source": []
  },
  {
   "cell_type": "code",
   "execution_count": null,
   "metadata": {},
   "outputs": [],
   "source": []
  },
  {
   "cell_type": "code",
   "execution_count": null,
   "metadata": {},
   "outputs": [],
   "source": []
  },
  {
   "cell_type": "code",
   "execution_count": null,
   "metadata": {},
   "outputs": [],
   "source": []
  },
  {
   "cell_type": "code",
   "execution_count": null,
   "metadata": {},
   "outputs": [],
   "source": []
  },
  {
   "cell_type": "code",
   "execution_count": null,
   "metadata": {},
   "outputs": [],
   "source": []
  },
  {
   "cell_type": "markdown",
   "metadata": {},
   "source": [
    "## Extract"
   ]
  },
  {
   "cell_type": "markdown",
   "metadata": {},
   "source": [
    "After the dependencies are setup, now the code will import the data to be worked on. Pandas will be used to import this data into DataFrames which will be cleaned up in the next section. Both files that will be imported are CSV files, which makes this step fairly easy."
   ]
  },
  {
   "cell_type": "code",
   "execution_count": null,
   "metadata": {},
   "outputs": [],
   "source": []
  },
  {
   "cell_type": "code",
   "execution_count": null,
   "metadata": {},
   "outputs": [],
   "source": []
  },
  {
   "cell_type": "markdown",
   "metadata": {},
   "source": [
    "### NBA 2K20 Statistics"
   ]
  },
  {
   "cell_type": "markdown",
   "metadata": {},
   "source": [
    "This data contains player statistics from the videogame NBA 2K20. This videogame only contains data from the 2019 - 2020 NBA season."
   ]
  },
  {
   "cell_type": "code",
   "execution_count": 4,
   "metadata": {},
   "outputs": [
    {
     "data": {
      "text/html": [
       "<div>\n",
       "<style scoped>\n",
       "    .dataframe tbody tr th:only-of-type {\n",
       "        vertical-align: middle;\n",
       "    }\n",
       "\n",
       "    .dataframe tbody tr th {\n",
       "        vertical-align: top;\n",
       "    }\n",
       "\n",
       "    .dataframe thead th {\n",
       "        text-align: right;\n",
       "    }\n",
       "</style>\n",
       "<table border=\"1\" class=\"dataframe\">\n",
       "  <thead>\n",
       "    <tr style=\"text-align: right;\">\n",
       "      <th></th>\n",
       "      <th>full_name</th>\n",
       "      <th>rating</th>\n",
       "      <th>jersey</th>\n",
       "      <th>team</th>\n",
       "      <th>position</th>\n",
       "      <th>b_day</th>\n",
       "      <th>height</th>\n",
       "      <th>weight</th>\n",
       "      <th>salary</th>\n",
       "      <th>country</th>\n",
       "      <th>draft_year</th>\n",
       "      <th>draft_round</th>\n",
       "      <th>draft_peak</th>\n",
       "      <th>college</th>\n",
       "    </tr>\n",
       "  </thead>\n",
       "  <tbody>\n",
       "    <tr>\n",
       "      <th>0</th>\n",
       "      <td>LeBron James</td>\n",
       "      <td>97</td>\n",
       "      <td>#23</td>\n",
       "      <td>Los Angeles Lakers</td>\n",
       "      <td>F</td>\n",
       "      <td>12/30/84</td>\n",
       "      <td>6-9 / 2.06</td>\n",
       "      <td>250 lbs. / 113.4 kg.</td>\n",
       "      <td>$37436858</td>\n",
       "      <td>USA</td>\n",
       "      <td>2003</td>\n",
       "      <td>1</td>\n",
       "      <td>1</td>\n",
       "      <td>NaN</td>\n",
       "    </tr>\n",
       "    <tr>\n",
       "      <th>1</th>\n",
       "      <td>Kawhi Leonard</td>\n",
       "      <td>97</td>\n",
       "      <td>#2</td>\n",
       "      <td>Los Angeles Clippers</td>\n",
       "      <td>F</td>\n",
       "      <td>06/29/91</td>\n",
       "      <td>6-7 / 2.01</td>\n",
       "      <td>225 lbs. / 102.1 kg.</td>\n",
       "      <td>$32742000</td>\n",
       "      <td>USA</td>\n",
       "      <td>2011</td>\n",
       "      <td>1</td>\n",
       "      <td>15</td>\n",
       "      <td>San Diego State</td>\n",
       "    </tr>\n",
       "    <tr>\n",
       "      <th>2</th>\n",
       "      <td>Giannis Antetokounmpo</td>\n",
       "      <td>96</td>\n",
       "      <td>#34</td>\n",
       "      <td>Milwaukee Bucks</td>\n",
       "      <td>F-G</td>\n",
       "      <td>12/06/94</td>\n",
       "      <td>6-11 / 2.11</td>\n",
       "      <td>242 lbs. / 109.8 kg.</td>\n",
       "      <td>$25842697</td>\n",
       "      <td>Greece</td>\n",
       "      <td>2013</td>\n",
       "      <td>1</td>\n",
       "      <td>15</td>\n",
       "      <td>NaN</td>\n",
       "    </tr>\n",
       "    <tr>\n",
       "      <th>3</th>\n",
       "      <td>Kevin Durant</td>\n",
       "      <td>96</td>\n",
       "      <td>#7</td>\n",
       "      <td>Brooklyn Nets</td>\n",
       "      <td>F</td>\n",
       "      <td>09/29/88</td>\n",
       "      <td>6-10 / 2.08</td>\n",
       "      <td>230 lbs. / 104.3 kg.</td>\n",
       "      <td>$37199000</td>\n",
       "      <td>USA</td>\n",
       "      <td>2007</td>\n",
       "      <td>1</td>\n",
       "      <td>2</td>\n",
       "      <td>Texas</td>\n",
       "    </tr>\n",
       "    <tr>\n",
       "      <th>4</th>\n",
       "      <td>James Harden</td>\n",
       "      <td>96</td>\n",
       "      <td>#13</td>\n",
       "      <td>Houston Rockets</td>\n",
       "      <td>G</td>\n",
       "      <td>08/26/89</td>\n",
       "      <td>6-5 / 1.96</td>\n",
       "      <td>220 lbs. / 99.8 kg.</td>\n",
       "      <td>$38199000</td>\n",
       "      <td>USA</td>\n",
       "      <td>2009</td>\n",
       "      <td>1</td>\n",
       "      <td>3</td>\n",
       "      <td>Arizona State</td>\n",
       "    </tr>\n",
       "  </tbody>\n",
       "</table>\n",
       "</div>"
      ],
      "text/plain": [
       "               full_name  rating jersey                  team position  \\\n",
       "0           LeBron James      97    #23    Los Angeles Lakers        F   \n",
       "1          Kawhi Leonard      97     #2  Los Angeles Clippers        F   \n",
       "2  Giannis Antetokounmpo      96    #34       Milwaukee Bucks      F-G   \n",
       "3           Kevin Durant      96     #7         Brooklyn Nets        F   \n",
       "4           James Harden      96    #13       Houston Rockets        G   \n",
       "\n",
       "      b_day       height                weight     salary country  draft_year  \\\n",
       "0  12/30/84   6-9 / 2.06  250 lbs. / 113.4 kg.  $37436858     USA        2003   \n",
       "1  06/29/91   6-7 / 2.01  225 lbs. / 102.1 kg.  $32742000     USA        2011   \n",
       "2  12/06/94  6-11 / 2.11  242 lbs. / 109.8 kg.  $25842697  Greece        2013   \n",
       "3  09/29/88  6-10 / 2.08  230 lbs. / 104.3 kg.  $37199000     USA        2007   \n",
       "4  08/26/89   6-5 / 1.96   220 lbs. / 99.8 kg.  $38199000     USA        2009   \n",
       "\n",
       "  draft_round draft_peak          college  \n",
       "0           1          1              NaN  \n",
       "1           1         15  San Diego State  \n",
       "2           1         15              NaN  \n",
       "3           1          2            Texas  \n",
       "4           1          3    Arizona State  "
      ]
     },
     "execution_count": 4,
     "metadata": {},
     "output_type": "execute_result"
    }
   ],
   "source": [
    "nba2k=pd.read_csv(csv_files['nba2k'])\n",
    "nba2k.head()"
   ]
  },
  {
   "cell_type": "code",
   "execution_count": null,
   "metadata": {},
   "outputs": [],
   "source": []
  },
  {
   "cell_type": "code",
   "execution_count": null,
   "metadata": {},
   "outputs": [],
   "source": []
  },
  {
   "cell_type": "code",
   "execution_count": null,
   "metadata": {},
   "outputs": [],
   "source": []
  },
  {
   "cell_type": "code",
   "execution_count": null,
   "metadata": {},
   "outputs": [],
   "source": []
  },
  {
   "cell_type": "code",
   "execution_count": null,
   "metadata": {},
   "outputs": [],
   "source": []
  },
  {
   "cell_type": "code",
   "execution_count": null,
   "metadata": {},
   "outputs": [],
   "source": []
  },
  {
   "cell_type": "markdown",
   "metadata": {},
   "source": [
    "### NBA Player Statistics"
   ]
  },
  {
   "cell_type": "markdown",
   "metadata": {},
   "source": [
    "This data contains real-life player statistics for many seasons and leagues. We read and convert the data into a dataframe. "
   ]
  },
  {
   "cell_type": "code",
   "execution_count": 5,
   "metadata": {},
   "outputs": [
    {
     "data": {
      "text/html": [
       "<div>\n",
       "<style scoped>\n",
       "    .dataframe tbody tr th:only-of-type {\n",
       "        vertical-align: middle;\n",
       "    }\n",
       "\n",
       "    .dataframe tbody tr th {\n",
       "        vertical-align: top;\n",
       "    }\n",
       "\n",
       "    .dataframe thead th {\n",
       "        text-align: right;\n",
       "    }\n",
       "</style>\n",
       "<table border=\"1\" class=\"dataframe\">\n",
       "  <thead>\n",
       "    <tr style=\"text-align: right;\">\n",
       "      <th></th>\n",
       "      <th>League</th>\n",
       "      <th>Season</th>\n",
       "      <th>Stage</th>\n",
       "      <th>Player</th>\n",
       "      <th>Team</th>\n",
       "      <th>GP</th>\n",
       "      <th>MIN</th>\n",
       "      <th>FGM</th>\n",
       "      <th>FGA</th>\n",
       "      <th>3PM</th>\n",
       "      <th>...</th>\n",
       "      <th>PTS</th>\n",
       "      <th>birth_year</th>\n",
       "      <th>birth_month</th>\n",
       "      <th>birth_date</th>\n",
       "      <th>height</th>\n",
       "      <th>height_cm</th>\n",
       "      <th>weight</th>\n",
       "      <th>weight_kg</th>\n",
       "      <th>nationality</th>\n",
       "      <th>high_school</th>\n",
       "    </tr>\n",
       "  </thead>\n",
       "  <tbody>\n",
       "    <tr>\n",
       "      <th>0</th>\n",
       "      <td>NBA</td>\n",
       "      <td>2009 - 2010</td>\n",
       "      <td>Regular_Season</td>\n",
       "      <td>Kevin Durant</td>\n",
       "      <td>OKC</td>\n",
       "      <td>82</td>\n",
       "      <td>3239.3</td>\n",
       "      <td>794</td>\n",
       "      <td>1668</td>\n",
       "      <td>128</td>\n",
       "      <td>...</td>\n",
       "      <td>2472</td>\n",
       "      <td>1988.0</td>\n",
       "      <td>Sep</td>\n",
       "      <td>Sep 29, 1988</td>\n",
       "      <td>06-Sep</td>\n",
       "      <td>206.0</td>\n",
       "      <td>240.0</td>\n",
       "      <td>109.0</td>\n",
       "      <td>United States</td>\n",
       "      <td>Montrose Christian School</td>\n",
       "    </tr>\n",
       "    <tr>\n",
       "      <th>1</th>\n",
       "      <td>NBA</td>\n",
       "      <td>2009 - 2010</td>\n",
       "      <td>Regular_Season</td>\n",
       "      <td>LeBron James</td>\n",
       "      <td>CLE</td>\n",
       "      <td>76</td>\n",
       "      <td>2965.6</td>\n",
       "      <td>768</td>\n",
       "      <td>1528</td>\n",
       "      <td>129</td>\n",
       "      <td>...</td>\n",
       "      <td>2258</td>\n",
       "      <td>1984.0</td>\n",
       "      <td>Dec</td>\n",
       "      <td>Dec 30, 1984</td>\n",
       "      <td>06-Aug</td>\n",
       "      <td>203.0</td>\n",
       "      <td>250.0</td>\n",
       "      <td>113.0</td>\n",
       "      <td>United States</td>\n",
       "      <td>St. Vincent St. Mary High School</td>\n",
       "    </tr>\n",
       "    <tr>\n",
       "      <th>2</th>\n",
       "      <td>NBA</td>\n",
       "      <td>2009 - 2010</td>\n",
       "      <td>Regular_Season</td>\n",
       "      <td>Dwyane Wade</td>\n",
       "      <td>MIA</td>\n",
       "      <td>77</td>\n",
       "      <td>2792.4</td>\n",
       "      <td>719</td>\n",
       "      <td>1511</td>\n",
       "      <td>73</td>\n",
       "      <td>...</td>\n",
       "      <td>2045</td>\n",
       "      <td>1982.0</td>\n",
       "      <td>Jan</td>\n",
       "      <td>Jan 17, 1982</td>\n",
       "      <td>06-Apr</td>\n",
       "      <td>193.0</td>\n",
       "      <td>220.0</td>\n",
       "      <td>100.0</td>\n",
       "      <td>United States</td>\n",
       "      <td>Harold L. Richards High School</td>\n",
       "    </tr>\n",
       "    <tr>\n",
       "      <th>3</th>\n",
       "      <td>NBA</td>\n",
       "      <td>2009 - 2010</td>\n",
       "      <td>Regular_Season</td>\n",
       "      <td>Dirk Nowitzki</td>\n",
       "      <td>DAL</td>\n",
       "      <td>81</td>\n",
       "      <td>3038.8</td>\n",
       "      <td>720</td>\n",
       "      <td>1496</td>\n",
       "      <td>51</td>\n",
       "      <td>...</td>\n",
       "      <td>2027</td>\n",
       "      <td>1978.0</td>\n",
       "      <td>Jun</td>\n",
       "      <td>Jun 19, 1978</td>\n",
       "      <td>7-0</td>\n",
       "      <td>213.0</td>\n",
       "      <td>245.0</td>\n",
       "      <td>111.0</td>\n",
       "      <td>Germany</td>\n",
       "      <td>NaN</td>\n",
       "    </tr>\n",
       "    <tr>\n",
       "      <th>4</th>\n",
       "      <td>NBA</td>\n",
       "      <td>2009 - 2010</td>\n",
       "      <td>Regular_Season</td>\n",
       "      <td>Kobe Bryant</td>\n",
       "      <td>LAL</td>\n",
       "      <td>73</td>\n",
       "      <td>2835.4</td>\n",
       "      <td>716</td>\n",
       "      <td>1569</td>\n",
       "      <td>99</td>\n",
       "      <td>...</td>\n",
       "      <td>1970</td>\n",
       "      <td>1978.0</td>\n",
       "      <td>Aug</td>\n",
       "      <td>Aug 23, 1978</td>\n",
       "      <td>06-Jun</td>\n",
       "      <td>198.0</td>\n",
       "      <td>212.0</td>\n",
       "      <td>96.0</td>\n",
       "      <td>United States</td>\n",
       "      <td>Lower Merion High School</td>\n",
       "    </tr>\n",
       "  </tbody>\n",
       "</table>\n",
       "<p>5 rows × 31 columns</p>\n",
       "</div>"
      ],
      "text/plain": [
       "  League       Season           Stage         Player Team  GP     MIN  FGM  \\\n",
       "0    NBA  2009 - 2010  Regular_Season   Kevin Durant  OKC  82  3239.3  794   \n",
       "1    NBA  2009 - 2010  Regular_Season   LeBron James  CLE  76  2965.6  768   \n",
       "2    NBA  2009 - 2010  Regular_Season    Dwyane Wade  MIA  77  2792.4  719   \n",
       "3    NBA  2009 - 2010  Regular_Season  Dirk Nowitzki  DAL  81  3038.8  720   \n",
       "4    NBA  2009 - 2010  Regular_Season    Kobe Bryant  LAL  73  2835.4  716   \n",
       "\n",
       "    FGA  3PM  ...   PTS  birth_year  birth_month    birth_date  height  \\\n",
       "0  1668  128  ...  2472      1988.0          Sep  Sep 29, 1988  06-Sep   \n",
       "1  1528  129  ...  2258      1984.0          Dec  Dec 30, 1984  06-Aug   \n",
       "2  1511   73  ...  2045      1982.0          Jan  Jan 17, 1982  06-Apr   \n",
       "3  1496   51  ...  2027      1978.0          Jun  Jun 19, 1978     7-0   \n",
       "4  1569   99  ...  1970      1978.0          Aug  Aug 23, 1978  06-Jun   \n",
       "\n",
       "   height_cm  weight  weight_kg    nationality  \\\n",
       "0      206.0   240.0      109.0  United States   \n",
       "1      203.0   250.0      113.0  United States   \n",
       "2      193.0   220.0      100.0  United States   \n",
       "3      213.0   245.0      111.0        Germany   \n",
       "4      198.0   212.0       96.0  United States   \n",
       "\n",
       "                        high_school  \n",
       "0         Montrose Christian School  \n",
       "1  St. Vincent St. Mary High School  \n",
       "2    Harold L. Richards High School  \n",
       "3                               NaN  \n",
       "4          Lower Merion High School  \n",
       "\n",
       "[5 rows x 31 columns]"
      ]
     },
     "execution_count": 5,
     "metadata": {},
     "output_type": "execute_result"
    }
   ],
   "source": [
    "NBA_player_stats = pd.read_csv(csv_files['player_stats'])\n",
    "NBA_player_stats.head()"
   ]
  },
  {
   "cell_type": "code",
   "execution_count": null,
   "metadata": {},
   "outputs": [],
   "source": []
  },
  {
   "cell_type": "code",
   "execution_count": null,
   "metadata": {},
   "outputs": [],
   "source": []
  },
  {
   "cell_type": "markdown",
   "metadata": {},
   "source": [
    "## Transform"
   ]
  },
  {
   "cell_type": "markdown",
   "metadata": {},
   "source": [
    "Now that the data has been loaded, it now needs to be cleaned up before it is loaded up into the database.\n",
    "\n",
    "This will be done by doing some tranforms on individual datasets first. Afterward, both datasets will be merged into one dataset. By merging into one dataset, it will be easier to reorganize the data into seperate tables to be placed into the database."
   ]
  },
  {
   "cell_type": "markdown",
   "metadata": {},
   "source": [
    "In order for the merge to work correctly, the names to match properly. Any punctuation and spaces will be removed and the names will be capitalized to remove any variables that can affect the merge.  The following function will do so for us:"
   ]
  },
  {
   "cell_type": "code",
   "execution_count": 6,
   "metadata": {},
   "outputs": [],
   "source": [
    "def format_names(dataframe, name_column):\n",
    "    names = dataframe[name_column]\n",
    "    names = [re.sub('[^A-Za-z0-9]+', '', name).upper() for name in names]\n",
    "    return names"
   ]
  },
  {
   "cell_type": "code",
   "execution_count": null,
   "metadata": {},
   "outputs": [],
   "source": []
  },
  {
   "cell_type": "code",
   "execution_count": null,
   "metadata": {},
   "outputs": [],
   "source": []
  },
  {
   "cell_type": "code",
   "execution_count": null,
   "metadata": {},
   "outputs": [],
   "source": []
  },
  {
   "cell_type": "markdown",
   "metadata": {},
   "source": [
    "### NBA 2K20 Statistics"
   ]
  },
  {
   "cell_type": "markdown",
   "metadata": {},
   "source": [
    "For the NBA 2K20 Statistics, it needs to be..."
   ]
  },
  {
   "cell_type": "code",
   "execution_count": 7,
   "metadata": {},
   "outputs": [],
   "source": [
    "nba2k.rename(columns = {'full_name':'Player'}, inplace=True)"
   ]
  },
  {
   "cell_type": "code",
   "execution_count": 8,
   "metadata": {},
   "outputs": [],
   "source": [
    "nba2k['jersey']=nba2k['jersey'].apply(lambda x:x.split('#')[-1])\n",
    "nba2k['height']=nba2k['height'].apply(lambda x:x.split('/')[0])\n",
    "nba2k['salary']=nba2k['salary'].apply(lambda x:x.replace('$',''))\n",
    "nba2k[\"merge_name\"] = format_names(nba2k, \"Player\")"
   ]
  },
  {
   "cell_type": "code",
   "execution_count": 9,
   "metadata": {
    "scrolled": true
   },
   "outputs": [
    {
     "data": {
      "text/html": [
       "<div>\n",
       "<style scoped>\n",
       "    .dataframe tbody tr th:only-of-type {\n",
       "        vertical-align: middle;\n",
       "    }\n",
       "\n",
       "    .dataframe tbody tr th {\n",
       "        vertical-align: top;\n",
       "    }\n",
       "\n",
       "    .dataframe thead th {\n",
       "        text-align: right;\n",
       "    }\n",
       "</style>\n",
       "<table border=\"1\" class=\"dataframe\">\n",
       "  <thead>\n",
       "    <tr style=\"text-align: right;\">\n",
       "      <th></th>\n",
       "      <th>Player</th>\n",
       "      <th>rating</th>\n",
       "      <th>jersey</th>\n",
       "      <th>team</th>\n",
       "      <th>position</th>\n",
       "      <th>b_day</th>\n",
       "      <th>height</th>\n",
       "      <th>weight</th>\n",
       "      <th>salary</th>\n",
       "      <th>country</th>\n",
       "      <th>draft_year</th>\n",
       "      <th>draft_round</th>\n",
       "      <th>draft_peak</th>\n",
       "      <th>college</th>\n",
       "      <th>merge_name</th>\n",
       "    </tr>\n",
       "  </thead>\n",
       "  <tbody>\n",
       "    <tr>\n",
       "      <th>0</th>\n",
       "      <td>LeBron James</td>\n",
       "      <td>97</td>\n",
       "      <td>23</td>\n",
       "      <td>Los Angeles Lakers</td>\n",
       "      <td>F</td>\n",
       "      <td>12/30/84</td>\n",
       "      <td>6-9</td>\n",
       "      <td>250 lbs. / 113.4 kg.</td>\n",
       "      <td>37436858</td>\n",
       "      <td>USA</td>\n",
       "      <td>2003</td>\n",
       "      <td>1</td>\n",
       "      <td>1</td>\n",
       "      <td>NaN</td>\n",
       "      <td>LEBRONJAMES</td>\n",
       "    </tr>\n",
       "    <tr>\n",
       "      <th>1</th>\n",
       "      <td>Kawhi Leonard</td>\n",
       "      <td>97</td>\n",
       "      <td>2</td>\n",
       "      <td>Los Angeles Clippers</td>\n",
       "      <td>F</td>\n",
       "      <td>06/29/91</td>\n",
       "      <td>6-7</td>\n",
       "      <td>225 lbs. / 102.1 kg.</td>\n",
       "      <td>32742000</td>\n",
       "      <td>USA</td>\n",
       "      <td>2011</td>\n",
       "      <td>1</td>\n",
       "      <td>15</td>\n",
       "      <td>San Diego State</td>\n",
       "      <td>KAWHILEONARD</td>\n",
       "    </tr>\n",
       "    <tr>\n",
       "      <th>2</th>\n",
       "      <td>Giannis Antetokounmpo</td>\n",
       "      <td>96</td>\n",
       "      <td>34</td>\n",
       "      <td>Milwaukee Bucks</td>\n",
       "      <td>F-G</td>\n",
       "      <td>12/06/94</td>\n",
       "      <td>6-11</td>\n",
       "      <td>242 lbs. / 109.8 kg.</td>\n",
       "      <td>25842697</td>\n",
       "      <td>Greece</td>\n",
       "      <td>2013</td>\n",
       "      <td>1</td>\n",
       "      <td>15</td>\n",
       "      <td>NaN</td>\n",
       "      <td>GIANNISANTETOKOUNMPO</td>\n",
       "    </tr>\n",
       "    <tr>\n",
       "      <th>3</th>\n",
       "      <td>Kevin Durant</td>\n",
       "      <td>96</td>\n",
       "      <td>7</td>\n",
       "      <td>Brooklyn Nets</td>\n",
       "      <td>F</td>\n",
       "      <td>09/29/88</td>\n",
       "      <td>6-10</td>\n",
       "      <td>230 lbs. / 104.3 kg.</td>\n",
       "      <td>37199000</td>\n",
       "      <td>USA</td>\n",
       "      <td>2007</td>\n",
       "      <td>1</td>\n",
       "      <td>2</td>\n",
       "      <td>Texas</td>\n",
       "      <td>KEVINDURANT</td>\n",
       "    </tr>\n",
       "    <tr>\n",
       "      <th>4</th>\n",
       "      <td>James Harden</td>\n",
       "      <td>96</td>\n",
       "      <td>13</td>\n",
       "      <td>Houston Rockets</td>\n",
       "      <td>G</td>\n",
       "      <td>08/26/89</td>\n",
       "      <td>6-5</td>\n",
       "      <td>220 lbs. / 99.8 kg.</td>\n",
       "      <td>38199000</td>\n",
       "      <td>USA</td>\n",
       "      <td>2009</td>\n",
       "      <td>1</td>\n",
       "      <td>3</td>\n",
       "      <td>Arizona State</td>\n",
       "      <td>JAMESHARDEN</td>\n",
       "    </tr>\n",
       "  </tbody>\n",
       "</table>\n",
       "</div>"
      ],
      "text/plain": [
       "                  Player  rating jersey                  team position  \\\n",
       "0           LeBron James      97     23    Los Angeles Lakers        F   \n",
       "1          Kawhi Leonard      97      2  Los Angeles Clippers        F   \n",
       "2  Giannis Antetokounmpo      96     34       Milwaukee Bucks      F-G   \n",
       "3           Kevin Durant      96      7         Brooklyn Nets        F   \n",
       "4           James Harden      96     13       Houston Rockets        G   \n",
       "\n",
       "      b_day height                weight    salary country  draft_year  \\\n",
       "0  12/30/84   6-9   250 lbs. / 113.4 kg.  37436858     USA        2003   \n",
       "1  06/29/91   6-7   225 lbs. / 102.1 kg.  32742000     USA        2011   \n",
       "2  12/06/94  6-11   242 lbs. / 109.8 kg.  25842697  Greece        2013   \n",
       "3  09/29/88  6-10   230 lbs. / 104.3 kg.  37199000     USA        2007   \n",
       "4  08/26/89   6-5    220 lbs. / 99.8 kg.  38199000     USA        2009   \n",
       "\n",
       "  draft_round draft_peak          college            merge_name  \n",
       "0           1          1              NaN           LEBRONJAMES  \n",
       "1           1         15  San Diego State          KAWHILEONARD  \n",
       "2           1         15              NaN  GIANNISANTETOKOUNMPO  \n",
       "3           1          2            Texas           KEVINDURANT  \n",
       "4           1          3    Arizona State           JAMESHARDEN  "
      ]
     },
     "execution_count": 9,
     "metadata": {},
     "output_type": "execute_result"
    }
   ],
   "source": [
    "nba2k.head()"
   ]
  },
  {
   "cell_type": "code",
   "execution_count": null,
   "metadata": {},
   "outputs": [],
   "source": []
  },
  {
   "cell_type": "code",
   "execution_count": null,
   "metadata": {},
   "outputs": [],
   "source": []
  },
  {
   "cell_type": "code",
   "execution_count": null,
   "metadata": {},
   "outputs": [],
   "source": []
  },
  {
   "cell_type": "code",
   "execution_count": null,
   "metadata": {},
   "outputs": [],
   "source": []
  },
  {
   "cell_type": "code",
   "execution_count": null,
   "metadata": {},
   "outputs": [],
   "source": []
  },
  {
   "cell_type": "code",
   "execution_count": null,
   "metadata": {},
   "outputs": [],
   "source": []
  },
  {
   "cell_type": "code",
   "execution_count": null,
   "metadata": {},
   "outputs": [],
   "source": []
  },
  {
   "cell_type": "code",
   "execution_count": null,
   "metadata": {},
   "outputs": [],
   "source": []
  },
  {
   "cell_type": "code",
   "execution_count": null,
   "metadata": {},
   "outputs": [],
   "source": []
  },
  {
   "cell_type": "markdown",
   "metadata": {},
   "source": [
    "### NBA Player Statistics"
   ]
  },
  {
   "cell_type": "markdown",
   "metadata": {},
   "source": [
    "Before we merge the NBA Player Statistics with the NBA 2K20 data, we need to do a little cleaning.\n",
    "\n",
    "All players except those from the NBA league during the 2019-2020 Season are dropped from the table. Columns that are already in the NBA 2K20 table are also dropped. \n",
    "\n",
    "Finally, to match the database, the height is converted from centimeters to feet."
   ]
  },
  {
   "cell_type": "code",
   "execution_count": 10,
   "metadata": {},
   "outputs": [],
   "source": [
    "# Drop all other leagues besides NBA and all years except 2019-2020\n",
    "NBA = NBA_player_stats[\"League\"] == \"NBA\"\n",
    "Season = NBA_player_stats[\"Season\"] == \"2019 - 2020\"\n",
    "NBA_players = NBA_player_stats[NBA & Season]"
   ]
  },
  {
   "cell_type": "code",
   "execution_count": 11,
   "metadata": {},
   "outputs": [],
   "source": [
    "# Drop unnecessary columns\n",
    "NBA_players_clean = NBA_players.drop(columns=[\"birth_year\", \"birth_month\", \"birth_date\", \"height\", \"weight_kg\"])"
   ]
  },
  {
   "cell_type": "code",
   "execution_count": 12,
   "metadata": {
    "scrolled": true
   },
   "outputs": [],
   "source": [
    "# Convert height from cm to inches\n",
    "NBA_players_clean[\"height_ft\"] = NBA_players_clean[\"height_cm\"] / 30.48\n",
    "height_NBA_players = NBA_players_clean.drop(columns=[\"height_cm\"])"
   ]
  },
  {
   "cell_type": "code",
   "execution_count": 13,
   "metadata": {},
   "outputs": [
    {
     "data": {
      "text/html": [
       "<div>\n",
       "<style scoped>\n",
       "    .dataframe tbody tr th:only-of-type {\n",
       "        vertical-align: middle;\n",
       "    }\n",
       "\n",
       "    .dataframe tbody tr th {\n",
       "        vertical-align: top;\n",
       "    }\n",
       "\n",
       "    .dataframe thead th {\n",
       "        text-align: right;\n",
       "    }\n",
       "</style>\n",
       "<table border=\"1\" class=\"dataframe\">\n",
       "  <thead>\n",
       "    <tr style=\"text-align: right;\">\n",
       "      <th></th>\n",
       "      <th>League</th>\n",
       "      <th>Season</th>\n",
       "      <th>Stage</th>\n",
       "      <th>Player</th>\n",
       "      <th>Team</th>\n",
       "      <th>GP</th>\n",
       "      <th>MIN</th>\n",
       "      <th>FGM</th>\n",
       "      <th>FGA</th>\n",
       "      <th>3PM</th>\n",
       "      <th>...</th>\n",
       "      <th>REB</th>\n",
       "      <th>AST</th>\n",
       "      <th>STL</th>\n",
       "      <th>BLK</th>\n",
       "      <th>PTS</th>\n",
       "      <th>weight_lbs</th>\n",
       "      <th>nationality</th>\n",
       "      <th>high_school</th>\n",
       "      <th>height_ft</th>\n",
       "      <th>merge_name</th>\n",
       "    </tr>\n",
       "  </thead>\n",
       "  <tbody>\n",
       "    <tr>\n",
       "      <th>36950</th>\n",
       "      <td>NBA</td>\n",
       "      <td>2019 - 2020</td>\n",
       "      <td>Regular_Season</td>\n",
       "      <td>James Harden</td>\n",
       "      <td>HOU</td>\n",
       "      <td>68</td>\n",
       "      <td>2482.6</td>\n",
       "      <td>672</td>\n",
       "      <td>1514</td>\n",
       "      <td>299</td>\n",
       "      <td>...</td>\n",
       "      <td>446</td>\n",
       "      <td>512</td>\n",
       "      <td>125</td>\n",
       "      <td>60</td>\n",
       "      <td>2335</td>\n",
       "      <td>220.0</td>\n",
       "      <td>United States</td>\n",
       "      <td>Artesia High School</td>\n",
       "      <td>6.430446</td>\n",
       "      <td>JAMESHARDEN</td>\n",
       "    </tr>\n",
       "    <tr>\n",
       "      <th>36951</th>\n",
       "      <td>NBA</td>\n",
       "      <td>2019 - 2020</td>\n",
       "      <td>Regular_Season</td>\n",
       "      <td>Damian Lillard</td>\n",
       "      <td>POR</td>\n",
       "      <td>66</td>\n",
       "      <td>2473.7</td>\n",
       "      <td>624</td>\n",
       "      <td>1349</td>\n",
       "      <td>270</td>\n",
       "      <td>...</td>\n",
       "      <td>284</td>\n",
       "      <td>530</td>\n",
       "      <td>70</td>\n",
       "      <td>22</td>\n",
       "      <td>1978</td>\n",
       "      <td>195.0</td>\n",
       "      <td>United States</td>\n",
       "      <td>Oakland High School</td>\n",
       "      <td>6.266404</td>\n",
       "      <td>DAMIANLILLARD</td>\n",
       "    </tr>\n",
       "    <tr>\n",
       "      <th>36952</th>\n",
       "      <td>NBA</td>\n",
       "      <td>2019 - 2020</td>\n",
       "      <td>Regular_Season</td>\n",
       "      <td>Devin Booker</td>\n",
       "      <td>PHX</td>\n",
       "      <td>70</td>\n",
       "      <td>2511.8</td>\n",
       "      <td>627</td>\n",
       "      <td>1283</td>\n",
       "      <td>141</td>\n",
       "      <td>...</td>\n",
       "      <td>297</td>\n",
       "      <td>456</td>\n",
       "      <td>49</td>\n",
       "      <td>18</td>\n",
       "      <td>1863</td>\n",
       "      <td>206.0</td>\n",
       "      <td>United States</td>\n",
       "      <td>Moss Point High School</td>\n",
       "      <td>6.496063</td>\n",
       "      <td>DEVINBOOKER</td>\n",
       "    </tr>\n",
       "    <tr>\n",
       "      <th>36953</th>\n",
       "      <td>NBA</td>\n",
       "      <td>2019 - 2020</td>\n",
       "      <td>Regular_Season</td>\n",
       "      <td>Giannis Antetokounmpo</td>\n",
       "      <td>MIL</td>\n",
       "      <td>63</td>\n",
       "      <td>1916.9</td>\n",
       "      <td>685</td>\n",
       "      <td>1238</td>\n",
       "      <td>89</td>\n",
       "      <td>...</td>\n",
       "      <td>856</td>\n",
       "      <td>354</td>\n",
       "      <td>61</td>\n",
       "      <td>66</td>\n",
       "      <td>1857</td>\n",
       "      <td>242.0</td>\n",
       "      <td>Greece / Nigeria</td>\n",
       "      <td>NaN</td>\n",
       "      <td>6.922572</td>\n",
       "      <td>GIANNISANTETOKOUNMPO</td>\n",
       "    </tr>\n",
       "    <tr>\n",
       "      <th>36954</th>\n",
       "      <td>NBA</td>\n",
       "      <td>2019 - 2020</td>\n",
       "      <td>Regular_Season</td>\n",
       "      <td>Trae Young</td>\n",
       "      <td>ATL</td>\n",
       "      <td>60</td>\n",
       "      <td>2120.1</td>\n",
       "      <td>546</td>\n",
       "      <td>1249</td>\n",
       "      <td>205</td>\n",
       "      <td>...</td>\n",
       "      <td>255</td>\n",
       "      <td>560</td>\n",
       "      <td>65</td>\n",
       "      <td>8</td>\n",
       "      <td>1778</td>\n",
       "      <td>180.0</td>\n",
       "      <td>United States</td>\n",
       "      <td>Norman High School</td>\n",
       "      <td>6.167979</td>\n",
       "      <td>TRAEYOUNG</td>\n",
       "    </tr>\n",
       "  </tbody>\n",
       "</table>\n",
       "<p>5 rows × 27 columns</p>\n",
       "</div>"
      ],
      "text/plain": [
       "      League       Season           Stage                 Player Team  GP  \\\n",
       "36950    NBA  2019 - 2020  Regular_Season           James Harden  HOU  68   \n",
       "36951    NBA  2019 - 2020  Regular_Season         Damian Lillard  POR  66   \n",
       "36952    NBA  2019 - 2020  Regular_Season           Devin Booker  PHX  70   \n",
       "36953    NBA  2019 - 2020  Regular_Season  Giannis Antetokounmpo  MIL  63   \n",
       "36954    NBA  2019 - 2020  Regular_Season             Trae Young  ATL  60   \n",
       "\n",
       "          MIN  FGM   FGA  3PM  ...  REB  AST  STL  BLK   PTS  weight_lbs  \\\n",
       "36950  2482.6  672  1514  299  ...  446  512  125   60  2335       220.0   \n",
       "36951  2473.7  624  1349  270  ...  284  530   70   22  1978       195.0   \n",
       "36952  2511.8  627  1283  141  ...  297  456   49   18  1863       206.0   \n",
       "36953  1916.9  685  1238   89  ...  856  354   61   66  1857       242.0   \n",
       "36954  2120.1  546  1249  205  ...  255  560   65    8  1778       180.0   \n",
       "\n",
       "            nationality             high_school  height_ft  \\\n",
       "36950     United States     Artesia High School   6.430446   \n",
       "36951     United States     Oakland High School   6.266404   \n",
       "36952     United States  Moss Point High School   6.496063   \n",
       "36953  Greece / Nigeria                     NaN   6.922572   \n",
       "36954     United States      Norman High School   6.167979   \n",
       "\n",
       "                 merge_name  \n",
       "36950           JAMESHARDEN  \n",
       "36951         DAMIANLILLARD  \n",
       "36952           DEVINBOOKER  \n",
       "36953  GIANNISANTETOKOUNMPO  \n",
       "36954             TRAEYOUNG  \n",
       "\n",
       "[5 rows x 27 columns]"
      ]
     },
     "execution_count": 13,
     "metadata": {},
     "output_type": "execute_result"
    }
   ],
   "source": [
    "# Further Cleaning\n",
    "final_NBA_players = height_NBA_players.rename(columns = {\"weight\": \"weight_lbs\"}, inplace = False)\n",
    "final_NBA_players[\"merge_name\"] = format_names(final_NBA_players, \"Player\")\n",
    "final_NBA_players.head()"
   ]
  },
  {
   "cell_type": "code",
   "execution_count": null,
   "metadata": {},
   "outputs": [],
   "source": []
  },
  {
   "cell_type": "code",
   "execution_count": null,
   "metadata": {},
   "outputs": [],
   "source": []
  },
  {
   "cell_type": "code",
   "execution_count": null,
   "metadata": {},
   "outputs": [],
   "source": []
  },
  {
   "cell_type": "code",
   "execution_count": null,
   "metadata": {},
   "outputs": [],
   "source": []
  },
  {
   "cell_type": "code",
   "execution_count": null,
   "metadata": {},
   "outputs": [],
   "source": []
  },
  {
   "cell_type": "code",
   "execution_count": null,
   "metadata": {},
   "outputs": [],
   "source": []
  },
  {
   "cell_type": "code",
   "execution_count": null,
   "metadata": {},
   "outputs": [],
   "source": []
  },
  {
   "cell_type": "markdown",
   "metadata": {},
   "source": [
    "### Merge & Reorganize Statistics"
   ]
  },
  {
   "cell_type": "markdown",
   "metadata": {},
   "source": [
    "Now that the datasets are cleaned up, the tables need to b"
   ]
  },
  {
   "cell_type": "code",
   "execution_count": 14,
   "metadata": {},
   "outputs": [
    {
     "data": {
      "text/html": [
       "<div>\n",
       "<style scoped>\n",
       "    .dataframe tbody tr th:only-of-type {\n",
       "        vertical-align: middle;\n",
       "    }\n",
       "\n",
       "    .dataframe tbody tr th {\n",
       "        vertical-align: top;\n",
       "    }\n",
       "\n",
       "    .dataframe thead th {\n",
       "        text-align: right;\n",
       "    }\n",
       "</style>\n",
       "<table border=\"1\" class=\"dataframe\">\n",
       "  <thead>\n",
       "    <tr style=\"text-align: right;\">\n",
       "      <th></th>\n",
       "      <th>Player_x</th>\n",
       "      <th>rating</th>\n",
       "      <th>jersey</th>\n",
       "      <th>team</th>\n",
       "      <th>position</th>\n",
       "      <th>b_day</th>\n",
       "      <th>height</th>\n",
       "      <th>weight</th>\n",
       "      <th>salary</th>\n",
       "      <th>country</th>\n",
       "      <th>...</th>\n",
       "      <th>DRB</th>\n",
       "      <th>REB</th>\n",
       "      <th>AST</th>\n",
       "      <th>STL</th>\n",
       "      <th>BLK</th>\n",
       "      <th>PTS</th>\n",
       "      <th>weight_lbs</th>\n",
       "      <th>nationality</th>\n",
       "      <th>high_school</th>\n",
       "      <th>height_ft</th>\n",
       "    </tr>\n",
       "  </thead>\n",
       "  <tbody>\n",
       "    <tr>\n",
       "      <th>0</th>\n",
       "      <td>LeBron James</td>\n",
       "      <td>97</td>\n",
       "      <td>23</td>\n",
       "      <td>Los Angeles Lakers</td>\n",
       "      <td>F</td>\n",
       "      <td>12/30/84</td>\n",
       "      <td>6-9</td>\n",
       "      <td>250 lbs. / 113.4 kg.</td>\n",
       "      <td>37436858</td>\n",
       "      <td>USA</td>\n",
       "      <td>...</td>\n",
       "      <td>459</td>\n",
       "      <td>524</td>\n",
       "      <td>684</td>\n",
       "      <td>78</td>\n",
       "      <td>36</td>\n",
       "      <td>1698</td>\n",
       "      <td>250.0</td>\n",
       "      <td>United States</td>\n",
       "      <td>St. Vincent St. Mary High School</td>\n",
       "      <td>6.660105</td>\n",
       "    </tr>\n",
       "    <tr>\n",
       "      <th>1</th>\n",
       "      <td>Kawhi Leonard</td>\n",
       "      <td>97</td>\n",
       "      <td>2</td>\n",
       "      <td>Los Angeles Clippers</td>\n",
       "      <td>F</td>\n",
       "      <td>06/29/91</td>\n",
       "      <td>6-7</td>\n",
       "      <td>225 lbs. / 102.1 kg.</td>\n",
       "      <td>32742000</td>\n",
       "      <td>USA</td>\n",
       "      <td>...</td>\n",
       "      <td>348</td>\n",
       "      <td>402</td>\n",
       "      <td>280</td>\n",
       "      <td>103</td>\n",
       "      <td>33</td>\n",
       "      <td>1543</td>\n",
       "      <td>230.0</td>\n",
       "      <td>United States</td>\n",
       "      <td>Martin Luther King High School</td>\n",
       "      <td>6.594488</td>\n",
       "    </tr>\n",
       "    <tr>\n",
       "      <th>2</th>\n",
       "      <td>Giannis Antetokounmpo</td>\n",
       "      <td>96</td>\n",
       "      <td>34</td>\n",
       "      <td>Milwaukee Bucks</td>\n",
       "      <td>F-G</td>\n",
       "      <td>12/06/94</td>\n",
       "      <td>6-11</td>\n",
       "      <td>242 lbs. / 109.8 kg.</td>\n",
       "      <td>25842697</td>\n",
       "      <td>Greece</td>\n",
       "      <td>...</td>\n",
       "      <td>716</td>\n",
       "      <td>856</td>\n",
       "      <td>354</td>\n",
       "      <td>61</td>\n",
       "      <td>66</td>\n",
       "      <td>1857</td>\n",
       "      <td>242.0</td>\n",
       "      <td>Greece / Nigeria</td>\n",
       "      <td>NaN</td>\n",
       "      <td>6.922572</td>\n",
       "    </tr>\n",
       "    <tr>\n",
       "      <th>3</th>\n",
       "      <td>James Harden</td>\n",
       "      <td>96</td>\n",
       "      <td>13</td>\n",
       "      <td>Houston Rockets</td>\n",
       "      <td>G</td>\n",
       "      <td>08/26/89</td>\n",
       "      <td>6-5</td>\n",
       "      <td>220 lbs. / 99.8 kg.</td>\n",
       "      <td>38199000</td>\n",
       "      <td>USA</td>\n",
       "      <td>...</td>\n",
       "      <td>376</td>\n",
       "      <td>446</td>\n",
       "      <td>512</td>\n",
       "      <td>125</td>\n",
       "      <td>60</td>\n",
       "      <td>2335</td>\n",
       "      <td>220.0</td>\n",
       "      <td>United States</td>\n",
       "      <td>Artesia High School</td>\n",
       "      <td>6.430446</td>\n",
       "    </tr>\n",
       "    <tr>\n",
       "      <th>4</th>\n",
       "      <td>Anthony Davis</td>\n",
       "      <td>94</td>\n",
       "      <td>3</td>\n",
       "      <td>Los Angeles Lakers</td>\n",
       "      <td>F-C</td>\n",
       "      <td>03/11/93</td>\n",
       "      <td>6-10</td>\n",
       "      <td>222 lbs. / 100.7 kg.</td>\n",
       "      <td>27093019</td>\n",
       "      <td>USA</td>\n",
       "      <td>...</td>\n",
       "      <td>435</td>\n",
       "      <td>578</td>\n",
       "      <td>200</td>\n",
       "      <td>91</td>\n",
       "      <td>143</td>\n",
       "      <td>1618</td>\n",
       "      <td>253.0</td>\n",
       "      <td>United States</td>\n",
       "      <td>Perspectives Charter Academy</td>\n",
       "      <td>6.824147</td>\n",
       "    </tr>\n",
       "  </tbody>\n",
       "</table>\n",
       "<p>5 rows × 41 columns</p>\n",
       "</div>"
      ],
      "text/plain": [
       "                Player_x  rating jersey                  team position  \\\n",
       "0           LeBron James      97     23    Los Angeles Lakers        F   \n",
       "1          Kawhi Leonard      97      2  Los Angeles Clippers        F   \n",
       "2  Giannis Antetokounmpo      96     34       Milwaukee Bucks      F-G   \n",
       "3           James Harden      96     13       Houston Rockets        G   \n",
       "4          Anthony Davis      94      3    Los Angeles Lakers      F-C   \n",
       "\n",
       "      b_day height                weight    salary country  ...  DRB  REB  \\\n",
       "0  12/30/84   6-9   250 lbs. / 113.4 kg.  37436858     USA  ...  459  524   \n",
       "1  06/29/91   6-7   225 lbs. / 102.1 kg.  32742000     USA  ...  348  402   \n",
       "2  12/06/94  6-11   242 lbs. / 109.8 kg.  25842697  Greece  ...  716  856   \n",
       "3  08/26/89   6-5    220 lbs. / 99.8 kg.  38199000     USA  ...  376  446   \n",
       "4  03/11/93  6-10   222 lbs. / 100.7 kg.  27093019     USA  ...  435  578   \n",
       "\n",
       "   AST  STL  BLK   PTS weight_lbs       nationality  \\\n",
       "0  684   78   36  1698      250.0     United States   \n",
       "1  280  103   33  1543      230.0     United States   \n",
       "2  354   61   66  1857      242.0  Greece / Nigeria   \n",
       "3  512  125   60  2335      220.0     United States   \n",
       "4  200   91  143  1618      253.0     United States   \n",
       "\n",
       "                        high_school height_ft  \n",
       "0  St. Vincent St. Mary High School  6.660105  \n",
       "1    Martin Luther King High School  6.594488  \n",
       "2                               NaN  6.922572  \n",
       "3               Artesia High School  6.430446  \n",
       "4      Perspectives Charter Academy  6.824147  \n",
       "\n",
       "[5 rows x 41 columns]"
      ]
     },
     "execution_count": 14,
     "metadata": {},
     "output_type": "execute_result"
    }
   ],
   "source": [
    "nba_combined_df = nba2k.merge(final_NBA_players, on=\"merge_name\")\n",
    "nba_combined_df.head()"
   ]
  },
  {
   "cell_type": "code",
   "execution_count": null,
   "metadata": {},
   "outputs": [],
   "source": []
  },
  {
   "cell_type": "code",
   "execution_count": null,
   "metadata": {},
   "outputs": [],
   "source": []
  },
  {
   "cell_type": "code",
   "execution_count": null,
   "metadata": {},
   "outputs": [],
   "source": []
  },
  {
   "cell_type": "code",
   "execution_count": null,
   "metadata": {},
   "outputs": [],
   "source": []
  },
  {
   "cell_type": "code",
   "execution_count": null,
   "metadata": {},
   "outputs": [],
   "source": []
  },
  {
   "cell_type": "code",
   "execution_count": null,
   "metadata": {},
   "outputs": [],
   "source": []
  },
  {
   "cell_type": "code",
   "execution_count": null,
   "metadata": {},
   "outputs": [],
   "source": []
  },
  {
   "cell_type": "code",
   "execution_count": null,
   "metadata": {},
   "outputs": [],
   "source": []
  },
  {
   "cell_type": "code",
   "execution_count": null,
   "metadata": {},
   "outputs": [],
   "source": []
  },
  {
   "cell_type": "code",
   "execution_count": null,
   "metadata": {},
   "outputs": [],
   "source": []
  },
  {
   "cell_type": "markdown",
   "metadata": {},
   "source": [
    "## Load"
   ]
  },
  {
   "cell_type": "markdown",
   "metadata": {},
   "source": [
    "Finally, the data can be loaded into the production database for any clients to potentially use. The production database is an SQL relational database with the following tables:\n",
    "<ul>\n",
    "    <li><em>Table</em> - Description</li>\n",
    "</ul>\n",
    "The database is structured in this way because..."
   ]
  },
  {
   "cell_type": "code",
   "execution_count": null,
   "metadata": {},
   "outputs": [],
   "source": []
  },
  {
   "cell_type": "code",
   "execution_count": null,
   "metadata": {},
   "outputs": [],
   "source": []
  },
  {
   "cell_type": "code",
   "execution_count": null,
   "metadata": {},
   "outputs": [],
   "source": []
  },
  {
   "cell_type": "markdown",
   "metadata": {},
   "source": [
    "### Players Table"
   ]
  },
  {
   "cell_type": "code",
   "execution_count": null,
   "metadata": {},
   "outputs": [],
   "source": [
    "# TODO: Load up data into the production database."
   ]
  },
  {
   "cell_type": "code",
   "execution_count": null,
   "metadata": {},
   "outputs": [],
   "source": []
  },
  {
   "cell_type": "code",
   "execution_count": null,
   "metadata": {},
   "outputs": [],
   "source": []
  },
  {
   "cell_type": "code",
   "execution_count": null,
   "metadata": {},
   "outputs": [],
   "source": []
  },
  {
   "cell_type": "code",
   "execution_count": null,
   "metadata": {},
   "outputs": [],
   "source": []
  },
  {
   "cell_type": "code",
   "execution_count": null,
   "metadata": {},
   "outputs": [],
   "source": []
  },
  {
   "cell_type": "code",
   "execution_count": null,
   "metadata": {},
   "outputs": [],
   "source": []
  },
  {
   "cell_type": "code",
   "execution_count": null,
   "metadata": {},
   "outputs": [],
   "source": []
  },
  {
   "cell_type": "code",
   "execution_count": null,
   "metadata": {},
   "outputs": [],
   "source": []
  },
  {
   "cell_type": "code",
   "execution_count": null,
   "metadata": {},
   "outputs": [],
   "source": []
  },
  {
   "cell_type": "code",
   "execution_count": null,
   "metadata": {},
   "outputs": [],
   "source": []
  },
  {
   "cell_type": "markdown",
   "metadata": {},
   "source": [
    "### Teams Table"
   ]
  },
  {
   "cell_type": "code",
   "execution_count": null,
   "metadata": {},
   "outputs": [],
   "source": [
    "# TODO: Load up data into the production database."
   ]
  },
  {
   "cell_type": "code",
   "execution_count": null,
   "metadata": {},
   "outputs": [],
   "source": []
  },
  {
   "cell_type": "code",
   "execution_count": null,
   "metadata": {},
   "outputs": [],
   "source": []
  },
  {
   "cell_type": "code",
   "execution_count": null,
   "metadata": {},
   "outputs": [],
   "source": []
  },
  {
   "cell_type": "code",
   "execution_count": null,
   "metadata": {},
   "outputs": [],
   "source": []
  },
  {
   "cell_type": "code",
   "execution_count": null,
   "metadata": {},
   "outputs": [],
   "source": []
  },
  {
   "cell_type": "code",
   "execution_count": null,
   "metadata": {},
   "outputs": [],
   "source": []
  },
  {
   "cell_type": "code",
   "execution_count": null,
   "metadata": {},
   "outputs": [],
   "source": []
  },
  {
   "cell_type": "code",
   "execution_count": null,
   "metadata": {},
   "outputs": [],
   "source": []
  },
  {
   "cell_type": "markdown",
   "metadata": {},
   "source": [
    "### Team_Players Table"
   ]
  },
  {
   "cell_type": "code",
   "execution_count": null,
   "metadata": {},
   "outputs": [],
   "source": [
    "# TODO: Load up data into the production database."
   ]
  },
  {
   "cell_type": "code",
   "execution_count": null,
   "metadata": {},
   "outputs": [],
   "source": []
  },
  {
   "cell_type": "code",
   "execution_count": null,
   "metadata": {},
   "outputs": [],
   "source": []
  },
  {
   "cell_type": "code",
   "execution_count": null,
   "metadata": {},
   "outputs": [],
   "source": []
  },
  {
   "cell_type": "code",
   "execution_count": null,
   "metadata": {},
   "outputs": [],
   "source": []
  },
  {
   "cell_type": "code",
   "execution_count": null,
   "metadata": {},
   "outputs": [],
   "source": []
  },
  {
   "cell_type": "code",
   "execution_count": null,
   "metadata": {},
   "outputs": [],
   "source": []
  },
  {
   "cell_type": "code",
   "execution_count": null,
   "metadata": {},
   "outputs": [],
   "source": []
  },
  {
   "cell_type": "code",
   "execution_count": null,
   "metadata": {},
   "outputs": [],
   "source": []
  },
  {
   "cell_type": "markdown",
   "metadata": {},
   "source": [
    "### Statistics Table"
   ]
  },
  {
   "cell_type": "code",
   "execution_count": null,
   "metadata": {},
   "outputs": [],
   "source": [
    "# TODO: Load up data into the production database."
   ]
  },
  {
   "cell_type": "code",
   "execution_count": null,
   "metadata": {},
   "outputs": [],
   "source": []
  },
  {
   "cell_type": "code",
   "execution_count": null,
   "metadata": {},
   "outputs": [],
   "source": []
  },
  {
   "cell_type": "code",
   "execution_count": null,
   "metadata": {},
   "outputs": [],
   "source": []
  },
  {
   "cell_type": "code",
   "execution_count": null,
   "metadata": {},
   "outputs": [],
   "source": []
  },
  {
   "cell_type": "code",
   "execution_count": null,
   "metadata": {},
   "outputs": [],
   "source": []
  },
  {
   "cell_type": "code",
   "execution_count": null,
   "metadata": {},
   "outputs": [],
   "source": []
  },
  {
   "cell_type": "code",
   "execution_count": null,
   "metadata": {},
   "outputs": [],
   "source": []
  },
  {
   "cell_type": "markdown",
   "metadata": {},
   "source": [
    "## Production"
   ]
  },
  {
   "cell_type": "markdown",
   "metadata": {},
   "source": [
    "To test to make sure that this ETL project works correctly, run database/queries.sql.  The queries in this file will verify that the data was cleaned up correctly such that merges between tables work."
   ]
  },
  {
   "cell_type": "code",
   "execution_count": null,
   "metadata": {},
   "outputs": [],
   "source": []
  },
  {
   "cell_type": "code",
   "execution_count": null,
   "metadata": {},
   "outputs": [],
   "source": []
  },
  {
   "cell_type": "code",
   "execution_count": null,
   "metadata": {},
   "outputs": [],
   "source": []
  }
 ],
 "metadata": {
  "kernelspec": {
   "display_name": "Python 3",
   "language": "python",
   "name": "python3"
  },
  "language_info": {
   "codemirror_mode": {
    "name": "ipython",
    "version": 3
   },
   "file_extension": ".py",
   "mimetype": "text/x-python",
   "name": "python",
   "nbconvert_exporter": "python",
   "pygments_lexer": "ipython3",
   "version": "3.6.10"
  }
 },
 "nbformat": 4,
 "nbformat_minor": 4
}
